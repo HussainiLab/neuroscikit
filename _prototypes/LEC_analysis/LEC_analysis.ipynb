{
 "cells": [
  {
   "cell_type": "code",
   "execution_count": null,
   "metadata": {},
   "outputs": [],
   "source": [
    "# Pick directory --> load all data into study dict\n",
    "\n",
    "# study --> A1, A2, ... --> A1S1, A1S2, ... A2S1, A2S2, ... --> A1S1C1, A1S1C2, ..., A1S2C1, ...\n",
    "\n",
    "# sort cell data, match across waveforms\n",
    "\n",
    "# batch run spikeAnalysisGUI (firing data) {batch_ratemaps.py}\n",
    "\n",
    "# batch run spikeWidthGUI (spike width)\n",
    "\n",
    "# batch run PowerSpectrum.vel --> save output LFP data and load into python\n",
    "\n",
    "# batch run hfoGUI (LFP vizualization) \n",
    "\n",
    "# batch run PRISM/neurofunc (field properties) {batch_ratemaps.py}\n",
    "\n",
    "# batch run odor/object analysis"
   ]
  }
 ],
 "metadata": {
  "kernelspec": {
   "display_name": "Python 3.10.6 64-bit (system)",
   "language": "python",
   "name": "python3"
  },
  "language_info": {
   "name": "python",
   "version": "3.10.6"
  },
  "orig_nbformat": 4,
  "vscode": {
   "interpreter": {
    "hash": "271de3eaf5512a01a3a2cea9253de8f7a978ec97e5a00bc2131d971ee349090f"
   }
  }
 },
 "nbformat": 4,
 "nbformat_minor": 2
}
