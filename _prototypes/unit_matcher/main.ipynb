{
 "cells": [
  {
   "cell_type": "code",
   "execution_count": 1,
   "metadata": {},
   "outputs": [
    {
     "data": {
      "text/plain": [
       "' ACTIVE JUPYTER NOTEBOOK TO BATCH RUN UNIT MATCHING ALGORITHM '"
      ]
     },
     "execution_count": 1,
     "metadata": {},
     "output_type": "execute_result"
    }
   ],
   "source": [
    "\"\"\" ACTIVE JUPYTER NOTEBOOK TO BATCH RUN UNIT MATCHING ALGORITHM \"\"\""
   ]
  },
  {
   "cell_type": "code",
   "execution_count": 2,
   "metadata": {},
   "outputs": [
    {
     "name": "stdout",
     "output_type": "stream",
     "text": [
      "c:\\Users\\aaoun\\OneDrive - cumc.columbia.edu\\Desktop\\HussainiLab\\neuroscikit\n"
     ]
    }
   ],
   "source": [
    "# Outside imports\n",
    "import os, sys\n",
    "import numpy as np\n",
    "import matplotlib.pyplot as plt\n",
    "\n",
    "# Set necessary paths / make project path = ...../neuroscikit/\n",
    "unit_matcher_path = os.getcwd()\n",
    "prototype_path = os.path.abspath(os.path.join(unit_matcher_path, os.pardir))\n",
    "project_path = os.path.abspath(os.path.join(prototype_path, os.pardir))\n",
    "lab_path = os.path.abspath(os.path.join(project_path, os.pardir))\n",
    "sys.path.append(project_path)\n",
    "os.chdir(project_path)\n",
    "print(project_path)\n",
    "\n",
    "# Internal imports\n",
    "\n",
    "# Read write modules\n",
    "from x_io.rw.axona.batch_read import make_study\n",
    "from _prototypes.unit_matcher.read_axona import read_sequential_sessions, temp_read_cut\n",
    "from _prototypes.unit_matcher.write_axona import format_new_cut_file_name\n",
    "\n",
    "# Unit matching modules\n",
    "from _prototypes.unit_matcher.main import format_cut, run_unit_matcher, map_unit_matches_first_session, map_unit_matches_sequential_session\n",
    "from _prototypes.unit_matcher.session import compare_sessions\n",
    "from _prototypes.unit_matcher.waveform import time_index, derivative, derivative2, morphological_points"
   ]
  },
  {
   "cell_type": "code",
   "execution_count": 3,
   "metadata": {},
   "outputs": [
    {
     "data": {
      "text/plain": [
       "' ONLY EDIT THE SETTINGS IN THIS NEXT CELL '"
      ]
     },
     "execution_count": 3,
     "metadata": {},
     "output_type": "execute_result"
    }
   ],
   "source": [
    "\"\"\" ONLY EDIT THE SETTINGS IN THIS NEXT CELL \"\"\""
   ]
  },
  {
   "cell_type": "code",
   "execution_count": 4,
   "metadata": {},
   "outputs": [],
   "source": [
    "\"\"\" If a setting is not used for your analysis (e.g. smoothing_factor), just pass in an arbitrary value or pass in 'None' \"\"\"\n",
    "STUDY_SETTINGS = {\n",
    "\n",
    "    'ppm': 511,  # EDIT HERE\n",
    "\n",
    "    'smoothing_factor': None, # EDIT HERE\n",
    "\n",
    "    'useMatchedCut': False,  # EDIT HERE, set to False if you want to use runUnitMatcher, set to True after to load in matched.cut file\n",
    "}\n",
    "\n",
    "\n",
    "# Switch devices to True/False based on what is being used (to be extended for more devices in future)\n",
    "device_settings = {'axona_led_tracker': True, 'implant': True} \n",
    "\n",
    "# Make sure implant metadata is correct, change if not, AT THE MINIMUM leave implant_type: tetrode\n",
    "implant_settings = {'implant_type': 'tetrode', 'implant_geometry': 'square', 'wire_length': 25, 'wire_length_units': 'um', 'implant_units': 'uV'}\n",
    "\n",
    "# WE ASSUME DEVICE AND IMPLANT SETTINGS ARE CONSISTENCE ACROSS SESSIONS, IF THIS IS NOT THE CASE PLEASE LET ME KNOW\n",
    "\n",
    "# Set channel count + add device/implant settings\n",
    "SESSION_SETTINGS = {\n",
    "    'channel_count': 4, # EDIT HERE, default is 4, you can change to other number but code will check how many tetrode files are present and set that to channel copunt regardless\n",
    "    'devices': device_settings, # EDIT HERE\n",
    "    'implant': implant_settings, # EDIT HERE\n",
    "}\n",
    "\n",
    "STUDY_SETTINGS['session'] = SESSION_SETTINGS\n",
    "\n",
    "settings_dict = STUDY_SETTINGS"
   ]
  },
  {
   "cell_type": "code",
   "execution_count": 5,
   "metadata": {},
   "outputs": [],
   "source": [
    "data_dir = lab_path + r'\\neuroscikit_test_data\\UnitMatchTest'\n",
    "# data_dir = lab_path + r'\\neuroscikit_test_data\\single_sequential'\n",
    "\n",
    "# To use in unit matching\n",
    "settings_dict_unmatched = settings_dict\n",
    "settings_dict_unmatched['useMatchedCut'] = False\n",
    "\n",
    "# # To use for loading in matched cut and vizualizing / subsequent analysis\n",
    "# settings_dict_matched = settings_dict\n",
    "# settings_dict_matched['useMatchedCut'] = True"
   ]
  },
  {
   "cell_type": "code",
   "execution_count": 6,
   "metadata": {},
   "outputs": [
    {
     "name": "stdout",
     "output_type": "stream",
     "text": [
      "Animal ID set\n",
      "Animal ID set\n",
      "Animal ID set\n",
      "Animal ID set\n",
      "Session data added, spikes sorted by cell\n",
      "Session data added, spikes sorted by cell\n",
      "Session data added, spikes sorted by cell\n",
      "Session data added, spikes sorted by cell\n",
      "Starting Unit Matching\n"
     ]
    },
    {
     "name": "stderr",
     "output_type": "stream",
     "text": [
      "c:\\Users\\aaoun\\OneDrive - cumc.columbia.edu\\Desktop\\HussainiLab\\Envs\\envPRISM\\lib\\site-packages\\numpy\\core\\fromnumeric.py:3432: RuntimeWarning: Mean of empty slice.\n",
      "  return _methods._mean(a, axis=axis, dtype=dtype,\n",
      "c:\\Users\\aaoun\\OneDrive - cumc.columbia.edu\\Desktop\\HussainiLab\\Envs\\envPRISM\\lib\\site-packages\\numpy\\core\\_methods.py:190: RuntimeWarning: invalid value encountered in double_scalars\n",
      "  ret = ret.dtype.type(ret / rcount)\n"
     ]
    },
    {
     "name": "stdout",
     "output_type": "stream",
     "text": [
      "Session1 - Cell 0; Session2 - Cell 0\n",
      "M (5012, 23)\n",
      "Session1 - Cell 0; Session2 - Cell 1\n",
      "M (4140, 23)\n",
      "Session1 - Cell 0; Session2 - Cell 2\n",
      "M (2689, 23)\n",
      "Session1 - Cell 0; Session2 - Cell 3\n",
      "M (4733, 23)\n",
      "Session1 - Cell 0; Session2 - Cell 4\n",
      "M (5805, 23)\n",
      "Session1 - Cell 1; Session2 - Cell 0\n",
      "M (5012, 23)\n",
      "Session1 - Cell 1; Session2 - Cell 1\n",
      "M (4140, 23)\n",
      "Session1 - Cell 1; Session2 - Cell 2\n",
      "M (2689, 23)\n",
      "Session1 - Cell 1; Session2 - Cell 3\n",
      "M (4733, 23)\n",
      "Session1 - Cell 1; Session2 - Cell 4\n",
      "M (5805, 23)\n",
      "Session1 - Cell 2; Session2 - Cell 0\n",
      "M (5012, 23)\n",
      "Session1 - Cell 2; Session2 - Cell 1\n",
      "M (4140, 23)\n",
      "Session1 - Cell 2; Session2 - Cell 2\n",
      "M (2689, 23)\n",
      "Session1 - Cell 2; Session2 - Cell 3\n",
      "M (4733, 23)\n",
      "Session1 - Cell 2; Session2 - Cell 4\n",
      "M (5805, 23)\n",
      "Session1 - Cell 3; Session2 - Cell 0\n",
      "M (5012, 23)\n",
      "Session1 - Cell 3; Session2 - Cell 1\n",
      "M (4140, 23)\n",
      "Session1 - Cell 3; Session2 - Cell 2\n",
      "M (2689, 23)\n",
      "Session1 - Cell 3; Session2 - Cell 3\n",
      "M (4733, 23)\n",
      "Session1 - Cell 3; Session2 - Cell 4\n",
      "M (5805, 23)\n",
      "Session1 - Cell 4; Session2 - Cell 0\n",
      "M (5012, 23)\n",
      "Session1 - Cell 4; Session2 - Cell 1\n",
      "M (4140, 23)\n",
      "Session1 - Cell 4; Session2 - Cell 2\n",
      "M (2689, 23)\n",
      "Session1 - Cell 4; Session2 - Cell 3\n",
      "M (4733, 23)\n",
      "Session1 - Cell 4; Session2 - Cell 4\n",
      "M (5805, 23)\n",
      "NEW\n",
      "highest matched id: 1\n",
      "highest matched id: 2\n",
      "highest matched id: 3\n",
      "{3: 1, 4: 2, 2: 3, 5: 4, 1: 5}\n",
      "Wrote matched cut file c:\\Users\\aaoun\\OneDrive - cumc.columbia.edu\\Desktop\\HussainiLab\\neuroscikit_test_data\\UnitMatchTest/20180502-ROUND-3000-NO-2_1_matched.cut\n",
      "NEW\n",
      "highest matched id: 5\n",
      "highest matched id: 6\n",
      "highest matched id: 7\n",
      "{1: 3, 2: 1, 3: 2, 4: 4, 5: 5}\n",
      "Wrote matched cut file c:\\Users\\aaoun\\OneDrive - cumc.columbia.edu\\Desktop\\HussainiLab\\neuroscikit_test_data\\UnitMatchTest/20180502-ROUND-3000-90-2_1_matched.cut\n"
     ]
    },
    {
     "name": "stderr",
     "output_type": "stream",
     "text": [
      "c:\\Users\\aaoun\\OneDrive - cumc.columbia.edu\\Desktop\\HussainiLab\\Envs\\envPRISM\\lib\\site-packages\\numpy\\core\\fromnumeric.py:3432: RuntimeWarning: Mean of empty slice.\n",
      "  return _methods._mean(a, axis=axis, dtype=dtype,\n",
      "c:\\Users\\aaoun\\OneDrive - cumc.columbia.edu\\Desktop\\HussainiLab\\Envs\\envPRISM\\lib\\site-packages\\numpy\\core\\_methods.py:190: RuntimeWarning: invalid value encountered in double_scalars\n",
      "  ret = ret.dtype.type(ret / rcount)\n"
     ]
    },
    {
     "name": "stdout",
     "output_type": "stream",
     "text": [
      "Session1 - Cell 0; Session2 - Cell 0\n",
      "M (7034, 23)\n",
      "Session1 - Cell 0; Session2 - Cell 1\n",
      "M (9500, 23)\n",
      "Session1 - Cell 0; Session2 - Cell 2\n",
      "M (9531, 23)\n",
      "Session1 - Cell 0; Session2 - Cell 3\n",
      "M (7932, 23)\n",
      "Session1 - Cell 1; Session2 - Cell 0\n",
      "M (7034, 23)\n",
      "Session1 - Cell 1; Session2 - Cell 1\n",
      "M (9500, 23)\n",
      "Session1 - Cell 1; Session2 - Cell 2\n",
      "M (9531, 23)\n",
      "Session1 - Cell 1; Session2 - Cell 3\n",
      "M (7932, 23)\n",
      "Session1 - Cell 2; Session2 - Cell 0\n",
      "M (7034, 23)\n",
      "Session1 - Cell 2; Session2 - Cell 1\n",
      "M (9500, 23)\n",
      "Session1 - Cell 2; Session2 - Cell 2\n",
      "M (9531, 23)\n",
      "Session1 - Cell 2; Session2 - Cell 3\n",
      "M (7932, 23)\n",
      "Session1 - Cell 3; Session2 - Cell 0\n",
      "M (7034, 23)\n"
     ]
    }
   ],
   "source": [
    "# Run unit matching on non-matched study, will save new matched cut file. \n",
    "# First all data is loaded ('Animal ID set': Animal1_tet1, Animal1_tet2, etc..)\n",
    "# Then sessions PER animal and spikes per cell are sorted and  ('Session data added (to animal), spikes sorted by cell': Animal1_tet1_ses1, Animal1_tet1_ses2, etc..)\n",
    "# Then unit matching begins Animal1_tet1_ses1_cell_1 vs Animal1_tet1_ses2_cell_1, Animal1_tet1_ses1_cell_1 vs Animal1_tet1_ses2_cell_2, Animal1_tet1_ses1_cell_1 vs Animal1_tet1_ses2_cell_3, etc...\n",
    "unmatched_study = run_unit_matcher([data_dir], settings_dict_unmatched)\n",
    "print('COMPLETED UNIT MATCHING')"
   ]
  },
  {
   "cell_type": "code",
   "execution_count": null,
   "metadata": {},
   "outputs": [],
   "source": [
    "settings_dict_matched = settings_dict\n",
    "settings_dict_matched['useMatchedCut'] = True"
   ]
  },
  {
   "cell_type": "code",
   "execution_count": null,
   "metadata": {},
   "outputs": [],
   "source": [
    "for ses in unmatched_study.animals[0].sessions:\n",
    "    print(unmatched_study.animals[0].sessions[ses].session_metadata.file_paths)\n",
    "    print(unmatched_study.animals[0].sessions[ses].datetime)"
   ]
  },
  {
   "cell_type": "code",
   "execution_count": null,
   "metadata": {},
   "outputs": [],
   "source": [
    "matched_study = make_study([data_dir], settings_dict_matched)\n",
    "matched_study.make_animals()"
   ]
  },
  {
   "cell_type": "code",
   "execution_count": null,
   "metadata": {},
   "outputs": [],
   "source": [
    "for animal in matched_study.animals:\n",
    "    print('New Animal')\n",
    "    for session in animal.sessions.values():\n",
    "        print('Session date & time: ' + str(session.datetime))\n",
    "        print('Matched cell ids: ' + str(np.unique(session.get_spike_data()['spike_cluster'].cluster_labels)))"
   ]
  }
 ],
 "metadata": {
  "kernelspec": {
   "display_name": "Python 3.10.6 64-bit (system)",
   "language": "python",
   "name": "python3"
  },
  "language_info": {
   "codemirror_mode": {
    "name": "ipython",
    "version": 3
   },
   "file_extension": ".py",
   "mimetype": "text/x-python",
   "name": "python",
   "nbconvert_exporter": "python",
   "pygments_lexer": "ipython3",
   "version": "3.10.6"
  },
  "orig_nbformat": 4,
  "vscode": {
   "interpreter": {
    "hash": "271de3eaf5512a01a3a2cea9253de8f7a978ec97e5a00bc2131d971ee349090f"
   }
  }
 },
 "nbformat": 4,
 "nbformat_minor": 2
}
