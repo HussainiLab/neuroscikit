{
 "cells": [
  {
   "cell_type": "code",
   "execution_count": null,
   "metadata": {},
   "outputs": [],
   "source": [
    "# To be able to make edits to repo without having to restart notebook\n",
    "%load_ext autoreload\n",
    "%autoreload 2"
   ]
  },
  {
   "cell_type": "code",
   "execution_count": null,
   "metadata": {},
   "outputs": [],
   "source": [
    "import os, sys\n",
    "import numpy as np\n",
    "import pandas as pd\n",
    "import matplotlib.pyplot as plt\n",
    "from scipy.stats import pearsonr\n",
    "from scipy import signal\n",
    "from scipy import ndimage\n",
    "from math import ceil\n",
    "import cv2\n",
    "import ot\n",
    "import itertools\n",
    "\n",
    "PROJECT_PATH = os.path.dirname(os.path.dirname(os.path.abspath(os.getcwd())))\n",
    "# PROJECT_PATH = os.getcwd()\n",
    "sys.path.append(os.path.dirname(PROJECT_PATH))\n",
    "\n",
    "from _prototypes.cell_remapping.src.remapping import pot_sliced_wasserstein\n",
    "from _prototypes.cell_remapping.src.wasserstein_distance import _get_ratemap_bucket_midpoints\n",
    "from library.map_utils import _temp_occupancy_map, _temp_spike_map, _speed2D, _speed_bins, _interpolate_matrix\n",
    "from core.spatial import Position2D\n",
    "\n",
    "unit_matcher_path = os.getcwd()\n",
    "prototype_path = os.path.abspath(os.path.join(unit_matcher_path, os.pardir))\n",
    "project_path = os.path.abspath(os.path.join(prototype_path, os.pardir))\n",
    "lab_path = os.path.abspath(os.path.join(project_path, os.pardir))\n",
    "sys.path.append(project_path)\n",
    "os.chdir(project_path)\n",
    "print(project_path)"
   ]
  },
  {
   "cell_type": "code",
   "execution_count": null,
   "metadata": {},
   "outputs": [],
   "source": [
    "source = 'https://data.mendeley.com/datasets/hntn6m2pgk/1'\n",
    "paper = 'https://www.cell.com/neuron/pdf/S0896-6273(21)00504-3.pdf'\n",
    "supplementary = 'https://www.cell.com/cms/10.1016/j.neuron.2021.07.005/attachment/6428714e-08e0-46c4-bf9a-43697b565dde/mmc1'\n",
    "\n",
    "# animal_id = 'Seattle_1006_1'\n",
    "animal_id = 'Mumbai_1201_1'\n",
    "# animal_id = 'Calais_0713_2'\n",
    "# animal_id = 'Pisa_0502_1'\n",
    "\n",
    "MEC_FRtensor = r\"C:\\Users\\aaoun\\OneDrive - cumc.columbia.edu\\Desktop\\HussainiLab\\neuroscikit_test_data\\Low et al\\Data\\{}_MEC_FRtensor.npy\".format(animal_id)\n",
    "MEC_spikes = r\"C:\\Users\\aaoun\\OneDrive - cumc.columbia.edu\\Desktop\\HussainiLab\\neuroscikit_test_data\\Low et al\\Data\\{}_MEC_spikes.npy\".format(animal_id)\n",
    "MEC_cellIDs = r\"C:\\Users\\aaoun\\OneDrive - cumc.columbia.edu\\Desktop\\HussainiLab\\neuroscikit_test_data\\Low et al\\Data\\{}_MEC_cellIDs.npy\".format(animal_id)\n",
    "MEC_behavior = r\"C:\\Users\\aaoun\\OneDrive - cumc.columbia.edu\\Desktop\\HussainiLab\\neuroscikit_test_data\\Low et al\\Data\\{}_behavior.npy\".format(animal_id)\n",
    "\n",
    "firing_rate = np.load(MEC_FRtensor)\n",
    "spikes = np.load(MEC_spikes)\n",
    "cellIDs = np.load(MEC_cellIDs)\n",
    "behavior = np.load(MEC_behavior)\n",
    "\n"
   ]
  },
  {
   "cell_type": "code",
   "execution_count": null,
   "metadata": {},
   "outputs": [],
   "source": [
    "idx = 0\n",
    "cell = firing_rate[:,:,idx]\n",
    "rate_map = firing_rate[:,:,idx]"
   ]
  },
  {
   "cell_type": "code",
   "execution_count": null,
   "metadata": {},
   "outputs": [],
   "source": [
    "x = behavior[:,0]\n",
    "speed = behavior[:,1]\n",
    "y = behavior[:,2]\n",
    "time = behavior[:,3]"
   ]
  },
  {
   "cell_type": "code",
   "execution_count": null,
   "metadata": {},
   "outputs": [],
   "source": [
    "plt.imshow(rate_map)"
   ]
  },
  {
   "cell_type": "code",
   "execution_count": null,
   "metadata": {},
   "outputs": [],
   "source": [
    "step = 1\n",
    "window = 1\n",
    "emds = []\n",
    "\n",
    "for j in range(firing_rate.shape[2]):\n",
    "    prev_slice = None\n",
    "    rate_map = firing_rate[:,:,j]\n",
    "    cell_emds = []\n",
    "    print(j)\n",
    "    for i in range(0, rate_map.shape[1],step):\n",
    "\n",
    "        curr_slice = rate_map[:,i:i+window]\n",
    "\n",
    "        if prev_slice is None:\n",
    "            prev_slice = curr_slice\n",
    "\n",
    "        y, x = curr_slice.shape\n",
    "        # height_bucket_midpoints, width_bucket_midpoints = _get_ratemap_bucket_midpoints(([window],[400]), y, x)\n",
    "        buckets = np.array(list(itertools.product(np.arange(0,y,1),np.arange(0,x,1))))\n",
    "        source_weights = np.array(list(map(lambda x: prev_slice[x[0],x[1]], buckets)))\n",
    "        target_weights = np.array(list(map(lambda x: curr_slice[x[0],x[1]], buckets)))\n",
    "        source_weights = source_weights / np.sum(source_weights)\n",
    "        target_weights = target_weights / np.sum(target_weights)\n",
    "        # coord_buckets = np.array(list(itertools.product(height_bucket_midpoints,width_bucket_midpoints)))\n",
    "\n",
    "        emd = ot.wasserstein_1d(buckets[:,0], buckets[:,0], source_weights, target_weights)\n",
    "        # , n_projections=10**3)\n",
    "        cell_emds.append(emd)\n",
    "\n",
    "        prev_slice = curr_slice\n",
    "\n",
    "    emds.append(cell_emds)"
   ]
  },
  {
   "cell_type": "code",
   "execution_count": null,
   "metadata": {},
   "outputs": [],
   "source": [
    "fig = plt.figure(figsize=(10,10))\n",
    "\n",
    "# to_plot = np.sort(np.array(emds)[:], axis=0)\n",
    "to_plot = np.array(emds)[np.argsort(np.mean(np.array(emds), axis=1))]\n",
    "plt.imshow(to_plot, cmap='jet')\n",
    "plt.vlines(16,0,len(to_plot),color='white')\n",
    "plt.vlines(16*2,0,len(to_plot),color='white')\n",
    "plt.vlines(16*3,0,len(to_plot),color='white')\n",
    "plt.vlines(16*4,0,len(to_plot),color='white')\n",
    "plt.vlines(16*5,0,len(to_plot),color='white')\n",
    "plt.ylim(len(to_plot),250)\n",
    "plt.xlim(0,80)"
   ]
  },
  {
   "cell_type": "code",
   "execution_count": null,
   "metadata": {},
   "outputs": [],
   "source": [
    "to_plot.shape"
   ]
  }
 ],
 "metadata": {
  "kernelspec": {
   "display_name": "envPRISM",
   "language": "python",
   "name": "python3"
  },
  "language_info": {
   "codemirror_mode": {
    "name": "ipython",
    "version": 3
   },
   "file_extension": ".py",
   "mimetype": "text/x-python",
   "name": "python",
   "nbconvert_exporter": "python",
   "pygments_lexer": "ipython3",
   "version": "3.10.6"
  },
  "orig_nbformat": 4
 },
 "nbformat": 4,
 "nbformat_minor": 2
}
