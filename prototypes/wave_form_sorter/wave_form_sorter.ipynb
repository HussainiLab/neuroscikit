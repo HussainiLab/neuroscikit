{
 "cells": [
  {
   "cell_type": "code",
   "execution_count": 26,
   "metadata": {},
   "outputs": [],
   "source": [
    "import os\n",
    "import sys\n",
    "import numpy as np\n",
    "import matplotlib.pyplot as plt"
   ]
  },
  {
   "cell_type": "code",
   "execution_count": 2,
   "metadata": {},
   "outputs": [
    {
     "name": "stdout",
     "output_type": "stream",
     "text": [
      "c:\\Users\\aaoun\\OneDrive - cumc.columbia.edu\\Desktop\\HussainiLab\\neuroscikit\\prototypes\\wave_form_sorter\n",
      "c:\\Users\\aaoun\\OneDrive - cumc.columbia.edu\\Desktop\\HussainiLab\\neuroscikit\n",
      "c:\\Users\\aaoun\\OneDrive - cumc.columbia.edu\\Desktop\\HussainiLab\n",
      "c:\\Users\\aaoun\\OneDrive - cumc.columbia.edu\\Desktop\\HussainiLab\\neuroscikit_test_data\\sequential_axona_sessions\n"
     ]
    }
   ],
   "source": [
    "prototype_dir = os.getcwd()\n",
    "print(prototype_dir)\n",
    "\n",
    "parent = os.path.dirname(prototype_dir)\n",
    "parent_dir = os.path.dirname(parent)\n",
    "sys.path.append(parent_dir)\n",
    "print(parent_dir)\n",
    "\n",
    "top_dir = os.path.dirname(parent_dir)\n",
    "print(top_dir)\n",
    "\n",
    "data_dir = top_dir + r'\\neuroscikit_test_data\\sequential_axona_sessions'\n",
    "print(data_dir)"
   ]
  },
  {
   "cell_type": "code",
   "execution_count": 3,
   "metadata": {},
   "outputs": [
    {
     "name": "stdout",
     "output_type": "stream",
     "text": [
      "c:\\Users\\aaoun\\OneDrive - cumc.columbia.edu\\Desktop\\HussainiLab\\neuroscikit\\prototypes\\wave_form_sorter\n",
      "c:\\Users\\aaoun\\OneDrive - cumc.columbia.edu\\Desktop\\HussainiLab\\neuroscikit\\prototypes\\wave_form_sorter\n"
     ]
    }
   ],
   "source": [
    "from core.data_spikes import (\n",
    "    SpikeTrain,\n",
    "    SpikeTrainBatch,\n",
    "    Spike,\n",
    "    SpikeCluster,\n",
    "    SpikeClusterBatch,\n",
    ")\n",
    "\n",
    "from x_io.axona.read_tetrode_and_cut import (\n",
    "    load_spike_train_from_paths,\n",
    "    _read_cut,\n",
    "    _format_spikes\n",
    ")\n",
    "\n",
    "from core.data_study import (\n",
    "    Study,\n",
    "    Event,\n",
    "    Animal\n",
    ")\n",
    "\n",
    "from core.core_utils import (\n",
    "    make_seconds_index_from_rate\n",
    ")"
   ]
  },
  {
   "cell_type": "code",
   "execution_count": 4,
   "metadata": {},
   "outputs": [],
   "source": [
    "files = os.listdir(data_dir)\n",
    "\n",
    "test1_34 = []\n",
    "test1_35 = []\n",
    "test2_34 = []\n",
    "test2_35 = []\n",
    "\n",
    "for f in files:\n",
    "    if 'Test1' in f and '34' in f:\n",
    "        test1_34.append(f)\n",
    "    elif 'Test1' in f and '35' in f:\n",
    "        test1_35.append(f)\n",
    "    elif 'Test2' in f and '34' in f:\n",
    "        test2_34.append(f)\n",
    "    elif 'Test2' in f and '35' in f:\n",
    "        test2_35.append(f)"
   ]
  },
  {
   "cell_type": "code",
   "execution_count": 5,
   "metadata": {},
   "outputs": [],
   "source": [
    "session1 = test1_34\n",
    "session2 = test2_34\n",
    "\n",
    "assert len(session1) == len(session2)\n",
    "\n",
    "session1_tets = []\n",
    "session2_tets = []\n",
    "\n",
    "for i in range(len(session1)):\n",
    "    if 'cut' in session1[i]:\n",
    "        session1_cut = session1[i]\n",
    "    if 'cut' in session2[i]:\n",
    "        session2_cut = session2[i]\n",
    "    file_session_1 = session1[i]\n",
    "    file_session_2 = session2[i]\n",
    "    out1 = file_session_1.split('.')[-1]\n",
    "    out2 = file_session_2.split('.')[-1]\n",
    "    if out1.isnumeric() and 'clu' not in file_session_1:\n",
    "        session1_tets.append(session1[i])\n",
    "    if out2.isnumeric() and 'clu' not in file_session_2:\n",
    "        session2_tets.append(session2[i])\n",
    "\n"
   ]
  },
  {
   "cell_type": "code",
   "execution_count": 6,
   "metadata": {},
   "outputs": [],
   "source": [
    "session1_cut_path = os.path.join(data_dir, session1_cut)\n",
    "session1_tet_path = os.path.join(data_dir, session1_tets[0])\n",
    "\n",
    "session2_cut_path = os.path.join(data_dir, session2_cut)\n",
    "session2_tet_path = os.path.join(data_dir, session2_tets[0])"
   ]
  },
  {
   "cell_type": "code",
   "execution_count": 7,
   "metadata": {},
   "outputs": [],
   "source": [
    "# waveforms1 = [[] for i in range(4)]\n",
    "# for i in range(4):\n",
    "#     channel, empty_cell, cluster_label = load_spike_train_from_paths(session1_cut_path, session1_tet_path, i+1)\n",
    "#     cells1 = channel[:empty_cell][1]\n",
    "#     channel_waveforms = channel[:empty_cell][0][0]\n",
    "#     # timestamps = channel[:empty_cell][0][1]\n",
    "#     waveforms1[i] = channel_waveforms\n",
    "\n",
    "# waveforms1 = np.array(waveforms1)\n",
    "# waveforms1 = waveforms1.reshape((waveforms1.shape[1], waveforms1.shape[0], waveforms1.shape[2]))\n",
    "\n",
    "# waveforms2 = [[] for i in range(4)]\n",
    "# for i in range(4):\n",
    "#     channel, empty_cell, cluster_label = load_spike_train_from_paths(session2_cut_path, session2_tet_path, i+1)\n",
    "#     cells2 = channel[:empty_cell][1]\n",
    "#     channel_waveforms = channel[:empty_cell][0][0]\n",
    "#     # timestamps = channel[:empty_cell][0][1]\n",
    "#     waveforms2[i] = channel_waveforms\n",
    "\n",
    "# waveforms2 = np.array(waveforms2)\n",
    "# waveforms2 = waveforms2.reshape((waveforms2.shape[1], waveforms2.shape[0], waveforms2.shape[2]))"
   ]
  },
  {
   "cell_type": "code",
   "execution_count": 8,
   "metadata": {},
   "outputs": [],
   "source": [
    "# add duration\n",
    "# go overwhich classes use self.timestamp\n",
    "# make Neuron instead of SpikeCluster. Neuron class more extensible, for now merge SpikeTrain fxns, later will want to ahve \n",
    "# summary fxns to see easily if waveform data available or not, maybe make it optional to pass in \n",
    "# check combination of inputs, e.g. if waveforms, need timestamps\n",
    "# e.g. waveforms put in dictionary that holds diff. attributes/stats that can be added to by user --> fxn\n",
    "# also will ahve to add fxn to check that user can add data to the dict\n",
    "\n",
    "# look into error raising that doesnt stop code if exists\n",
    "\n",
    "# spike object --> neuron --> ensemble --> study\n",
    "# ensemble most complex, holds covariates\n",
    "# study ensures conssitency across ensembles, e.g. if one ensemble has this attribute then so do other ensembles\n",
    "# extensible and flexible\n",
    "# study class has functions to return e.g. sorted ensembles/neurons based on added covariate/added attribute\n",
    "\n",
    "# inside file loading classes, make spike objects add to ensemble and in batch_load add ensembles to study\n",
    "\n",
    "# NEw plan: Animal --> Contexts (sess  ions) --> SpikeTrain --> Spike object (event)\n",
    "# Ensemble --> neuron --> spike object\n",
    "\n",
    "# new new plan\n",
    "# Study --> Animal --> Events\n",
    "# Neuron is attribute of event (e.g. spike belonging to a neuron)\n",
    "# polymorphism of events would be spikes (also e.g. lfp)\n",
    "# Ensembles (data structure resulting from group by e.g. spatial, context, maze), can span animal ,session, study\n"
   ]
  },
  {
   "cell_type": "code",
   "execution_count": 9,
   "metadata": {},
   "outputs": [],
   "source": [
    "with open(session1_cut_path, 'r') as cut_file1, open(session1_tet_path, 'rb') as tetrode_file1:\n",
    "    cut_data1 = _read_cut(cut_file1)\n",
    "    tetrode_data1 = _format_spikes(tetrode_file1)\n",
    "    # ts, ch1, ch2, ch3, ch4, spikeparam\n",
    "\n",
    "with open(session2_cut_path, 'r') as cut_file2, open(session2_tet_path, 'rb') as tetrode_file2:\n",
    "    cut_data2 = _read_cut(cut_file2)\n",
    "    tetrode_data2 = _format_spikes(tetrode_file2)\n",
    "    # ts, ch1, ch2, ch3, ch4, spikeparam"
   ]
  },
  {
   "cell_type": "code",
   "execution_count": 10,
   "metadata": {},
   "outputs": [],
   "source": [
    "sample_length1 =  tetrode_data1[-1]['duration']\n",
    "sample_rate1 = tetrode_data1[-1]['samples_per_spike']\n",
    "\n",
    "session_dict1 = {\n",
    "    'spike_times': tetrode_data1[0].squeeze().tolist(),\n",
    "    'cluster_labels': cut_data1,\n",
    "    'ch1': tetrode_data1[1],\n",
    "    'ch2': tetrode_data1[2],\n",
    "    'ch3': tetrode_data1[3],\n",
    "    'ch4': tetrode_data1[4],\n",
    "}\n",
    "\n",
    "sample_length2 =  tetrode_data2[-1]['duration']\n",
    "sample_rate2 = tetrode_data2[-1]['samples_per_spike']\n",
    "\n",
    "session_dict2 = {\n",
    "    'spike_times': tetrode_data2[0].squeeze().tolist(),\n",
    "    'cluster_labels': cut_data2,\n",
    "    'ch1': tetrode_data2[1],\n",
    "    'ch2': tetrode_data2[2],\n",
    "    'ch3': tetrode_data2[3],\n",
    "    'ch4': tetrode_data2[4],\n",
    "}\n",
    "\n",
    "assert sample_length1 == sample_length2\n",
    "assert sample_rate1 == sample_rate2\n",
    "\n",
    "study_dict = {\n",
    "    'sample_length': sample_length1,\n",
    "    'sample_rate': sample_rate1,\n",
    "    'animal_ids': ['0']\n",
    "}\n",
    "\n",
    "animal_dict = {\n",
    "    'id': '0',\n",
    "}\n",
    "\n",
    "animal_dict[0] = session_dict1\n",
    "animal_dict[1] = session_dict2"
   ]
  },
  {
   "cell_type": "code",
   "execution_count": 41,
   "metadata": {},
   "outputs": [
    {
     "data": {
      "text/plain": [
       "(159055, 50)"
      ]
     },
     "execution_count": 41,
     "metadata": {},
     "output_type": "execute_result"
    }
   ],
   "source": [
    "np.array(tetrode_data1[3]).shape"
   ]
  },
  {
   "cell_type": "code",
   "execution_count": 47,
   "metadata": {},
   "outputs": [
    {
     "data": {
      "text/plain": [
       "[<matplotlib.lines.Line2D at 0x1f93a0f07c0>]"
      ]
     },
     "execution_count": 47,
     "metadata": {},
     "output_type": "execute_result"
    },
    {
     "data": {
      "image/png": "[encoded data removed]",
      "text/plain": [
       "<Figure size 640x480 with 1 Axes>"
      ]
     },
     "metadata": {},
     "output_type": "display_data"
    }
   ],
   "source": [
    "plt.plot(np.mean(tetrode_data1[1], axis=0))\n",
    "plt.plot(np.mean(tetrode_data1[2], axis=0))\n",
    "plt.plot(np.mean(tetrode_data1[3], axis=0))\n",
    "plt.plot(np.mean(tetrode_data1[4], axis=0))"
   ]
  },
  {
   "cell_type": "code",
   "execution_count": 11,
   "metadata": {},
   "outputs": [],
   "source": [
    "study = Study(study_dict)"
   ]
  },
  {
   "cell_type": "code",
   "execution_count": 12,
   "metadata": {},
   "outputs": [],
   "source": [
    "study.add_animal(animal_dict)"
   ]
  },
  {
   "cell_type": "code",
   "execution_count": 13,
   "metadata": {},
   "outputs": [],
   "source": [
    "for animal in study.animals:\n",
    "    sesssion_data = animal.get_session_data(0)"
   ]
  },
  {
   "cell_type": "code",
   "execution_count": 14,
   "metadata": {},
   "outputs": [
    {
     "data": {
      "text/plain": [
       "(4, 159055, 50)"
      ]
     },
     "execution_count": 14,
     "metadata": {},
     "output_type": "execute_result"
    }
   ],
   "source": [
    "np.array(animal.agg_waveforms[0]).shape"
   ]
  },
  {
   "cell_type": "code",
   "execution_count": 48,
   "metadata": {},
   "outputs": [],
   "source": [
    "def sort_by_cell(spike_times, cluster_labels, waveforms):\n",
    "\n",
    "    assert len(spike_times) == len(cluster_labels)\n",
    "\n",
    "    cells = [[] for i in range(len(spike_times))]\n",
    "    sorted_waveforms = [[] for i in range(len(spike_times))]\n",
    "\n",
    "    for i in range(len(spike_times)):\n",
    "        labels = np.unique(cluster_labels[i])\n",
    "        # comes in shape (channel count, spike time, nmb samples) but is nested list not numpy\n",
    "        # want to rearrannge to be (spike time, channel count, nmb sample )\n",
    "        waves = np.array(waveforms[i]).reshape((len(waveforms[i][0]), len(waveforms[i]),  len(waveforms[i][0][0])))\n",
    "        for lbl in labels:\n",
    "            idx = np.where(cluster_labels[i] == lbl)\n",
    "            cells[i].append(np.array(spike_times[i])[idx])\n",
    "            sorted_waveforms[i].append(waves[idx,:,:].squeeze())\n",
    "\n",
    "    return cells, sorted_waveforms\n"
   ]
  },
  {
   "cell_type": "code",
   "execution_count": 138,
   "metadata": {},
   "outputs": [],
   "source": [
    "def average_by_cell(waveforms):\n",
    "    averaged_waveforms = [[] for i in range(len(waveforms))]\n",
    "    # for each session\n",
    "    for i in range(len(waveforms)):\n",
    "        # for each cell\n",
    "        for j in range(len(waveforms[i])):\n",
    "            avg = np.mean(waveforms[i][j].squeeze(), axis=0)\n",
    "            averaged_waveforms[i].append(avg)\n",
    "    return averaged_waveforms"
   ]
  },
  {
   "cell_type": "code",
   "execution_count": 113,
   "metadata": {},
   "outputs": [],
   "source": [
    "def detect_peaks(x, mph=None, mpd=1, threshold=0, edge='rising',\n",
    "                 kpsh=False, valley=False, show=False, ax=None):\n",
    "    __author__ = \"Marcos Duarte, https://github.com/demotu/BMC\"\n",
    "    __version__ = \"1.0.4\"\n",
    "    __license__ = \"MIT\"\n",
    "\n",
    "    \"\"\"Detect peaks in data based on their amplitude and other features.\n",
    "\n",
    "    Parameters\n",
    "    ----------\n",
    "    x : 1D array_like\n",
    "        data.\n",
    "    mph : {None, number}, optional (default = None)\n",
    "        detect peaks that are greater than minimum peak height.\n",
    "    mpd : positive integer, optional (default = 1)\n",
    "        detect peaks that are at least separated by minimum peak distance (in\n",
    "        number of data).\n",
    "    threshold : positive number, optional (default = 0)\n",
    "        detect peaks (valleys) that are greater (smaller) than `threshold`\n",
    "        in relation to their immediate neighbors.\n",
    "    edge : {None, 'rising', 'falling', 'both'}, optional (default = 'rising')\n",
    "        for a flat peak, keep only the rising edge ('rising'), only the\n",
    "        falling edge ('falling'), both edges ('both'), or don't detect a\n",
    "        flat peak (None).\n",
    "    kpsh : bool, optional (default = False)\n",
    "        keep peaks with same height even if they are closer than `mpd`.\n",
    "    valley : bool, optional (default = False)\n",
    "        if True (1), detect valleys (local minima) instead of peaks.\n",
    "    show : bool, optional (default = False)\n",
    "        if True (1), plot data in matplotlib figure.\n",
    "    ax : a matplotlib.axes.Axes instance, optional (default = None).\n",
    "\n",
    "    Returns\n",
    "    -------\n",
    "    ind : 1D array_like\n",
    "        indeces of the peaks in `x`.\n",
    "\n",
    "    Notes\n",
    "    -----\n",
    "    The detection of valleys instead of peaks is performed internally by simply\n",
    "    negating the data: `ind_valleys = detect_peaks(-x)`\n",
    "\n",
    "    The function can handle NaN's\n",
    "\n",
    "    See this IPython Notebook [1]_.\n",
    "\n",
    "    References\n",
    "    ----------\n",
    "    .. [1] http://nbviewer.ipython.org/github/demotu/BMC/blob/master/notebooks/DetectPeaks.ipynb\n",
    "\n",
    "    Examples\n",
    "    --------\n",
    "    >>> from detect_peaks import detect_peaks\n",
    "    >>> x = np.random.randn(100)\n",
    "    >>> x[60:81] = np.nan\n",
    "    >>> # detect all peaks and plot data\n",
    "    >>> ind = detect_peaks(x, show=True)\n",
    "    >>> print(ind)\n",
    "\n",
    "    >>> x = np.sin(2*np.pi*5*np.linspace(0, 1, 200)) + np.random.randn(200)/5\n",
    "    >>> # set minimum peak height = 0 and minimum peak distance = 20\n",
    "    >>> detect_peaks(x, mph=0, mpd=20, show=True)\n",
    "\n",
    "    >>> x = [0, 1, 0, 2, 0, 3, 0, 2, 0, 1, 0]\n",
    "    >>> # set minimum peak distance = 2\n",
    "    >>> detect_peaks(x, mpd=2, show=True)\n",
    "\n",
    "    >>> x = np.sin(2*np.pi*5*np.linspace(0, 1, 200)) + np.random.randn(200)/5\n",
    "    >>> # detection of valleys instead of peaks\n",
    "    >>> detect_peaks(x, mph=0, mpd=20, valley=True, show=True)\n",
    "\n",
    "    >>> x = [0, 1, 1, 0, 1, 1, 0]\n",
    "    >>> # detect both edges\n",
    "    >>> detect_peaks(x, edge='both', show=True)\n",
    "\n",
    "    >>> x = [-2, 1, -2, 2, 1, 1, 3, 0]\n",
    "    >>> # set threshold = 2\n",
    "    >>> detect_peaks(x, threshold = 2, show=True)\n",
    "    \"\"\"\n",
    "\n",
    "    x = np.atleast_1d(x).astype('float')\n",
    "    if x.size < 3:\n",
    "        return np.array([], dtype=int)\n",
    "    if valley:\n",
    "        x = -x\n",
    "    # find indices of all peaks\n",
    "    dx = x[1:] - x[:-1]\n",
    "    # handle NaN's\n",
    "    indnan = np.where(np.isnan(x))[0]\n",
    "    if indnan.size:\n",
    "        x[indnan] = np.inf\n",
    "        dx[np.where(np.isnan(dx))[0]] = np.inf\n",
    "    ine, ire, ife = np.array([[], [], []], dtype=int)\n",
    "    if not edge:\n",
    "        ine = np.where((np.hstack((dx, 0)) < 0) & (np.hstack((0, dx)) > 0))[0]\n",
    "    else:\n",
    "        if edge.lower() in ['rising', 'both']:\n",
    "            ire = np.where((np.hstack((dx, 0)) <= 0) & (np.hstack((0, dx)) > 0))[0]\n",
    "        if edge.lower() in ['falling', 'both']:\n",
    "            ife = np.where((np.hstack((dx, 0)) < 0) & (np.hstack((0, dx)) >= 0))[0]\n",
    "    ind = np.unique(np.hstack((ine, ire, ife)))\n",
    "    # handle NaN's\n",
    "    if ind.size and indnan.size:\n",
    "        # NaN's and values close to NaN's cannot be peaks\n",
    "        ind = ind[np.in1d(ind, np.unique(np.hstack((indnan, indnan - 1, indnan + 1))), invert=True)]\n",
    "    # first and last values of x cannot be peaks\n",
    "    if ind.size and ind[0] == 0:\n",
    "        ind = ind[1:]\n",
    "    if ind.size and ind[-1] == x.size - 1:\n",
    "        ind = ind[:-1]\n",
    "    # remove peaks < minimum peak height\n",
    "    if ind.size and mph is not None:\n",
    "        ind = ind[x[ind] >= mph]\n",
    "    # remove peaks - neighbors < threshold\n",
    "    if ind.size and threshold > 0:\n",
    "        dx = np.min(np.vstack([x[ind] - x[ind - 1], x[ind] - x[ind + 1]]), axis=0)\n",
    "        ind = np.delete(ind, np.where(dx < threshold)[0])\n",
    "    # detect small peaks closer than minimum peak distance\n",
    "    if ind.size and mpd > 1:\n",
    "        ind = ind[np.argsort(x[ind])][::-1]  # sort ind by peak height\n",
    "        idel = np.zeros(ind.size, dtype=bool)\n",
    "        for i in range(ind.size):\n",
    "            if not idel[i]:\n",
    "                # keep peaks with the same height if kpsh is True\n",
    "                idel = idel | (ind >= ind[i] - mpd) & (ind <= ind[i] + mpd) \\\n",
    "                              & (x[ind[i]] > x[ind] if kpsh else True)\n",
    "                idel[i] = 0  # Keep current peak\n",
    "        # remove the small peaks and sort back the indices by their occurrence\n",
    "        ind = np.sort(ind[~idel])\n",
    "\n",
    "    if show:\n",
    "        if indnan.size:\n",
    "            x[indnan] = np.nan\n",
    "        if valley:\n",
    "            x = -x\n",
    "        # _plot(x, mph, mpd, threshold, edge, valley, ax, ind)\n",
    "\n",
    "    return ind\n"
   ]
  },
  {
   "cell_type": "code",
   "execution_count": 139,
   "metadata": {},
   "outputs": [],
   "source": [
    "def get_peak_amplitudes(waveforms):\n",
    "    peaks = [[] for i in range(len(waveforms))]\n",
    "    peak_ids = [[] for i in range(len(waveforms))]\n",
    "    for i in range(len(waveforms)):\n",
    "        for j in range(len(waveforms[i])):\n",
    "            cell_peak = []\n",
    "            cell_peak_id = []\n",
    "            for k in range(len(waveforms[i][j])):\n",
    "                cell_peak.append(np.max(waveforms[i][j][k]))\n",
    "                cell_peak_id.append(np.argmax(waveforms[i][j][k]))\n",
    "            peaks[i].append(cell_peak)\n",
    "            peak_ids[i].append(cell_peak_id)\n",
    "    return peaks, peak_ids"
   ]
  },
  {
   "cell_type": "code",
   "execution_count": 140,
   "metadata": {},
   "outputs": [],
   "source": [
    "def sort_waveforms_by_sesssion(animal: Animal):\n",
    "    cells, waveforms = sort_by_cell(animal.agg_spike_times, animal.agg_cluster_labels, animal.agg_waveforms)\n",
    "\n",
    "    waveforms = average_by_cell(waveforms)\n",
    "\n",
    "    # peaks = [[] for i in range(len(waveforms))]\n",
    "    # for i in range(len(waveforms)):\n",
    "    #     for j in range(len(waveforms[i])):\n",
    "    #         cell_peak = []\n",
    "    #         for k in range(len(waveforms[i][j])):\n",
    "    #             cell_peak.append(detect_peaks(waveforms[i][j][k]))\n",
    "    #         peaks[i].append(cell_peak)\n",
    "\n",
    "    peaks, peak_ids = get_peak_amplitudes(waveforms)\n"
   ]
  },
  {
   "cell_type": "code",
   "execution_count": null,
   "metadata": {},
   "outputs": [],
   "source": []
  },
  {
   "cell_type": "code",
   "execution_count": 141,
   "metadata": {},
   "outputs": [],
   "source": [
    "\n",
    "cells, waveforms = sort_by_cell(animal.agg_spike_times, animal.agg_cluster_labels, animal.agg_waveforms)\n",
    "waveforms = average_by_cell(waveforms)\n",
    "peaks, peak_ids = get_peak_amplitudes(waveforms)\n"
   ]
  },
  {
   "cell_type": "code",
   "execution_count": 143,
   "metadata": {},
   "outputs": [
    {
     "data": {
      "text/plain": [
       "[[[39.833791968949235,\n",
       "   39.83019111080788,\n",
       "   39.873537862075764,\n",
       "   39.68194946669396],\n",
       "  [36.575175175175175, 35.9028028028028, 35.9, 35.42202202202202],\n",
       "  [44.293103448275865,\n",
       "   43.00574712643678,\n",
       "   41.14942528735632,\n",
       "   44.229885057471265],\n",
       "  [40.34153616703952,\n",
       "   39.54250559284117,\n",
       "   41.11558538404176,\n",
       "   39.510812826249065],\n",
       "  [43.74747474747475,\n",
       "   42.463869463869464,\n",
       "   43.018648018648015,\n",
       "   43.39316239316239],\n",
       "  [38.542918454935624,\n",
       "   37.89484978540773,\n",
       "   40.237124463519315,\n",
       "   40.30472103004292],\n",
       "  [37.25, 36.97844827586207, 37.956896551724135, 39.43103448275862],\n",
       "  [38.61454545454546, 37.95272727272727, 41.38181818181818, 39.00363636363636],\n",
       "  [38.58665338645418,\n",
       "   39.447958167330675,\n",
       "   39.03386454183267,\n",
       "   39.00871513944223],\n",
       "  [38.73753709198813,\n",
       "   39.302522255192876,\n",
       "   38.740356083086056,\n",
       "   38.30118694362018],\n",
       "  [38.61302211302211,\n",
       "   37.55528255528255,\n",
       "   38.396805896805894,\n",
       "   38.42260442260442]],\n",
       " [[38.63519678065114, 38.64945550612076, 38.74216538073613, 38.50101628617799],\n",
       "  [41.62971342383107, 43.69230769230769, 42.18476621417798, 41.69306184012066],\n",
       "  [37.87555555555556,\n",
       "   39.03407407407408,\n",
       "   36.36296296296296,\n",
       "   37.428148148148146],\n",
       "  [37.498260869565215,\n",
       "   36.471304347826084,\n",
       "   36.7695652173913,\n",
       "   36.713913043478264],\n",
       "  [37.24757281553398,\n",
       "   37.35800970873787,\n",
       "   36.991504854368934,\n",
       "   38.57645631067961],\n",
       "  [36.919318181818184,\n",
       "   36.393181818181816,\n",
       "   36.20909090909091,\n",
       "   36.09886363636364],\n",
       "  [36.00311526479751,\n",
       "   36.16822429906542,\n",
       "   34.52492211838006,\n",
       "   36.873831775700936],\n",
       "  [38.25139664804469,\n",
       "   33.865921787709496,\n",
       "   35.134078212290504,\n",
       "   36.83798882681564],\n",
       "  [38.526898734177216,\n",
       "   35.642405063291136,\n",
       "   39.28006329113924,\n",
       "   36.28322784810127],\n",
       "  [39.06171229900043,\n",
       "   39.972186006084314,\n",
       "   38.59148196436332,\n",
       "   38.24206866579748],\n",
       "  [34.62005277044855,\n",
       "   34.82849604221636,\n",
       "   33.11345646437995,\n",
       "   32.94195250659631]]]"
      ]
     },
     "execution_count": 143,
     "metadata": {},
     "output_type": "execute_result"
    }
   ],
   "source": [
    "peak_ids"
   ]
  },
  {
   "cell_type": "code",
   "execution_count": 119,
   "metadata": {},
   "outputs": [],
   "source": [
    "peaks = [[] for i in range(len(waveforms))]\n",
    "for i in range(len(waveforms)):\n",
    "    for j in range(len(waveforms[i])):\n",
    "        cell_peak = []\n",
    "        for k in range(len(waveforms[i][j])):\n",
    "            cell_peak.append(np.argmax(waveforms[i][j][k]))\n",
    "        peaks[i].append(cell_peak)"
   ]
  }
 ],
 "metadata": {
  "kernelspec": {
   "display_name": "Python 3.10.6 ('envPRISM')",
   "language": "python",
   "name": "python3"
  },
  "language_info": {
   "codemirror_mode": {
    "name": "ipython",
    "version": 3
   },
   "file_extension": ".py",
   "mimetype": "text/x-python",
   "name": "python",
   "nbconvert_exporter": "python",
   "pygments_lexer": "ipython3",
   "version": "3.10.6"
  },
  "orig_nbformat": 4,
  "vscode": {
   "interpreter": {
    "hash": "271de3eaf5512a01a3a2cea9253de8f7a978ec97e5a00bc2131d971ee349090f"
   }
  }
 },
 "nbformat": 4,
 "nbformat_minor": 2
}
